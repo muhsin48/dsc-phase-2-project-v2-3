{
 "cells": [
  {
   "cell_type": "code",
   "execution_count": 3,
   "metadata": {},
   "outputs": [],
   "source": [
    "file_path=\"C:/Users/ENVY x360/Flatiron/course_materials/dsc-phase-2-project-v2-3/data/column_names.md\""
   ]
  },
  {
   "cell_type": "code",
   "execution_count": 4,
   "metadata": {},
   "outputs": [
    {
     "name": "stdout",
     "output_type": "stream",
     "text": [
      "# Column Names and Descriptions for King County Data Set\n",
      "* `id` - Unique identifier for a house\n",
      "* `date` - Date house was sold\n",
      "* `price` - Sale price (prediction target)\n",
      "* `bedrooms` - Number of bedrooms\n",
      "* `bathrooms` - Number of bathrooms\n",
      "* `sqft_living` - Square footage of living space in the home\n",
      "* `sqft_lot` - Square footage of the lot\n",
      "* `floors` - Number of floors (levels) in house\n",
      "* `waterfront` - Whether the house is on a waterfront\n",
      "  * Includes Duwamish, Elliott Bay, Puget Sound, Lake Union, Ship Canal, Lake Washington, Lake Sammamish, other lake, and river/slough waterfronts\n",
      "* `view` - Quality of view from house\n",
      "  * Includes views of Mt. Rainier, Olympics, Cascades, Territorial, Seattle Skyline, Puget Sound, Lake Washington, Lake Sammamish, small lake / river / creek, and other\n",
      "* `condition` - How good the overall condition of the house is. Related to maintenance of house.\n",
      "  * See the [King County Assessor Website](https://info.kingcounty.gov/assessor/esales/Glossary.aspx?type=r) for further explanation of each condition code\n",
      "* `grade` - Overall grade of the house. Related to the construction and design of the house.\n",
      "  * See the [King County Assessor Website](https://info.kingcounty.gov/assessor/esales/Glossary.aspx?type=r) for further explanation of each building grade code\n",
      "* `sqft_above` - Square footage of house apart from basement\n",
      "* `sqft_basement` - Square footage of the basement\n",
      "* `yr_built` - Year when house was built\n",
      "* `yr_renovated` - Year when house was renovated\n",
      "* `zipcode` - ZIP Code used by the United States Postal Service\n",
      "* `lat` - Latitude coordinate\n",
      "* `long` - Longitude coordinate\n",
      "* `sqft_living15` - The square footage of interior housing living space for the nearest 15 neighbors\n",
      "* `sqft_lot15` - The square footage of the land lots of the nearest 15 neighbors\n",
      "\n"
     ]
    }
   ],
   "source": [
    "# Open and read the entire file content\n",
    "with open(file_path, 'r') as file:\n",
    "    content = file.read()\n",
    "\n",
    "# Print the entire content\n",
    "print(content)"
   ]
  },
  {
   "cell_type": "code",
   "execution_count": null,
   "metadata": {},
   "outputs": [],
   "source": [
    "# Create reg plot of highly correlated numeric features\n",
    "numeric_features = ['sqft_living','bedrooms','grade','bathrooms']\n",
    "for feature in numeric_features:\n",
    "    #plt.figure(figsize=(10,8))\n",
    "    sns.regplot(data=df, x=feature, y='price')\n",
    "    plt.xlabel(feature)\n",
    "    plt.ylabel('House Price')\n",
    "    plt.title(f'Correlation between {feature} and House Price')\n",
    "    plt.show()"
   ]
  }
 ],
 "metadata": {
  "kernelspec": {
   "display_name": "Python (learn-env)",
   "language": "python",
   "name": "learn-env"
  },
  "language_info": {
   "codemirror_mode": {
    "name": "ipython",
    "version": 3
   },
   "file_extension": ".py",
   "mimetype": "text/x-python",
   "name": "python",
   "nbconvert_exporter": "python",
   "pygments_lexer": "ipython3",
   "version": "3.8.5"
  }
 },
 "nbformat": 4,
 "nbformat_minor": 4
}
